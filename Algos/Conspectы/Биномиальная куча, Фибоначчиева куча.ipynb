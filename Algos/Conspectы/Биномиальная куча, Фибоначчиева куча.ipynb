{
 "cells": [
  {
   "cell_type": "code",
   "execution_count": null,
   "metadata": {},
   "outputs": [],
   "source": [
    "Куча\n",
    "remove_min() O(log(n))\n",
    "add(x) O(log(n))"
   ]
  },
  {
   "cell_type": "code",
   "execution_count": null,
   "metadata": {},
   "outputs": [],
   "source": [
    "Биномиальная куча\n",
    "\n",
    "Heap[0...maxk] — каждый элемент — дерево\n",
    "class Tree:\n",
    "    value: int\n",
    "    child: List<Tree> = list()\n",
    "    \n",
    "def add(x):\n",
    "    k = 0\n",
    "    add = Tree(x)\n",
    "    while heap[k]:\n",
    "        add = merge(add, heap[k]) #O(1)\n",
    "        heap[k] = None\n",
    "        k += 1\n",
    "    heap[k] = add\n",
    "    \n",
    "def merge(a, b):\n",
    "    if a is None:\n",
    "        return b\n",
    "    if b is None:\n",
    "        return a\n",
    "    if a.value < b.value:\n",
    "        a.child.append(b)\n",
    "        return a\n",
    "    else:\n",
    "        b.child.append(a)\n",
    "        return b\n",
    "    \n",
    "#t.value = 2\n",
    "#t.child = [Tree(3), Tree(4, child=[Tree(7)])]\n",
    "\n"
   ]
  },
  {
   "cell_type": "code",
   "execution_count": null,
   "metadata": {},
   "outputs": [],
   "source": [
    "class Tree:\n",
    "    value: int\n",
    "    leftChildren: Tree\n",
    "    rightSibling: Tree\n",
    "        \n",
    "        \n",
    "\n"
   ]
  },
  {
   "cell_type": "code",
   "execution_count": null,
   "metadata": {},
   "outputs": [],
   "source": [
    "def mergeMany(heap, addToHeap):\n",
    "    add = None\n",
    "    for i in range(maxk):\n",
    "        if heap[i] and addToHeap[i] and add:\n",
    "            head[i] = heap[i]\n",
    "            add = merge(addToHeap[i], add):\n",
    "        elif not heap[i]:\n",
    "            add = merge(addToHeap[i], add)\n",
    "        elif not addToHeap[i]:\n",
    "            add = merge(heap[i], add)\n",
    "        elif not add:\n",
    "            add = merge(heap[i], addToHeap[i])\n",
    "\n",
    "def remove_min():\n",
    "    min_index = 0\n",
    "    for i in range(maxk):\n",
    "        if heap[i] is not None and heap[i].value < heap[min_index].value\n",
    "            min_index = i\n",
    "    t = heap[min_index]\n",
    "    heap[min_index] = None\n",
    "    mergeMany(heap, t.child)"
   ]
  },
  {
   "cell_type": "code",
   "execution_count": null,
   "metadata": {},
   "outputs": [],
   "source": [
    "Фибоначчиева куча\n",
    "add(x) # O(1)\n",
    "find_min # O(1)\n",
    "remove_min # O(log n)\n",
    "decrease_key(x, y) # O(1)\n",
    "merge(FH1, FH2) # O(log(n)) -> O(1)"
   ]
  },
  {
   "cell_type": "code",
   "execution_count": null,
   "metadata": {},
   "outputs": [],
   "source": []
  },
  {
   "cell_type": "code",
   "execution_count": null,
   "metadata": {},
   "outputs": [],
   "source": []
  },
  {
   "cell_type": "code",
   "execution_count": null,
   "metadata": {},
   "outputs": [],
   "source": []
  },
  {
   "cell_type": "code",
   "execution_count": null,
   "metadata": {},
   "outputs": [],
   "source": []
  },
  {
   "cell_type": "code",
   "execution_count": null,
   "metadata": {},
   "outputs": [],
   "source": []
  },
  {
   "cell_type": "code",
   "execution_count": null,
   "metadata": {},
   "outputs": [],
   "source": []
  },
  {
   "cell_type": "code",
   "execution_count": null,
   "metadata": {},
   "outputs": [],
   "source": []
  },
  {
   "cell_type": "code",
   "execution_count": null,
   "metadata": {},
   "outputs": [],
   "source": []
  }
 ],
 "metadata": {
  "kernelspec": {
   "display_name": "Python 3",
   "language": "python",
   "name": "python3"
  },
  "language_info": {
   "codemirror_mode": {
    "name": "ipython",
    "version": 3
   },
   "file_extension": ".py",
   "mimetype": "text/x-python",
   "name": "python",
   "nbconvert_exporter": "python",
   "pygments_lexer": "ipython3",
   "version": "3.8.2"
  }
 },
 "nbformat": 4,
 "nbformat_minor": 4
}
