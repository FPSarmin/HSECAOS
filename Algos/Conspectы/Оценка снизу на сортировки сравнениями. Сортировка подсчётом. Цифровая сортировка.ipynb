{
 "cells": [
  {
   "cell_type": "code",
   "execution_count": null,
   "metadata": {},
   "outputs": [],
   "source": [
    "a[i] < a[j]\n",
    "\n",
    "[1, 2, 3, 4, 5, 6, 7]\n",
    "n! \n",
    "\n",
    "log(n!) = log(1*2*3*...*n) = log(1) + log(2) + ... + log(n/2)+ log(n/2 + 1) + ... + log(n - 1) + log(n) >= \n",
    ">= n/2 * log(n/2) = \\Omega(n log n)\n",
    "\n"
   ]
  },
  {
   "cell_type": "code",
   "execution_count": null,
   "metadata": {},
   "outputs": [],
   "source": [
    "Сортировка подсчётом\n",
    "a = [3, 5, 1, 2, 3, 2, 5, 6, 2]\n",
    "minimum = min(a)\n",
    "MAX_N = max(a)\n",
    "count = [0] * (MAX_N - minimum + 1)\n",
    "# [0, 1, 3, 2, 0, 2, 1]\n",
    "for x in a: # O(n)\n",
    "    count[x - minimum] += 1\n",
    "\n",
    "#[1, 2, 2, 2, 3, 3, 5, 5, 6]\n",
    "pos = 0\n",
    "for i in range(MAX_N + 1): # O(MAX_N)\n",
    "    for c in range(count[i - minimum]): # суммарно O(n)\n",
    "        a[pos] = i\n",
    "        pos += 1\n",
    "\n",
    "O(n + MAX_N)\n",
    "\n"
   ]
  },
  {
   "cell_type": "code",
   "execution_count": null,
   "metadata": {},
   "outputs": [],
   "source": [
    "(a, b) отсортировать по a, а это число 0..n-1\n",
    "\n",
    "a = [(3, 'Vasya'), (1, 'Anya'), (2, 'Robot')]\n",
    "count = [0] * len(a)\n",
    "values = [[]] * len(a)\n",
    "\n",
    "for x in a: # O(n)\n",
    "    values[x[0]].append(x)\n",
    "    \n",
    "pos = 0\n",
    "for i in range(len(a)):\n",
    "    for c in values[i]:\n",
    "        pos += 1\n",
    "\n",
    "        "
   ]
  },
  {
   "cell_type": "code",
   "execution_count": null,
   "metadata": {},
   "outputs": [],
   "source": [
    "# a [4, 1, 0, 1, 4, 0, 4, 1, 0, 4, 2, 3, 2, 3, 3 3 ]\n",
    "# count [3, 3, 2, 4, 4]\n",
    "# head  [0, 3, 6, 8,12]\n",
    "# sorted(a) [0,0,0, 1,1,1, 2 2  3 3 3 3  4 4 4 4]\n",
    "\n",
    "# head  [1, 5, 6, 8, 14]\n",
    "# sorted_a  [0,     1,1,                  4,4   ]\n",
    "\n",
    "a = [(3, 'Vasya'), (1, 'Anya'), (2, 'Robot')]\n",
    "MAX_N = len(a)\n",
    "count = [0] * MAX_N\n",
    "for x in a: # O(n)\n",
    "    count[x[0]] += 1\n",
    "head = [0] * MAX_N\n",
    "\n",
    "prefix_sum = 0\n",
    "for i in range(MAX_N):\n",
    "    head[i] = prefix_sum\n",
    "    prefix_sum += count[i]\n",
    "    \n",
    "sorted_a = [0] * len(a)\n",
    "for x in a:\n",
    "    sorted_a[head[x[0]]] = x\n",
    "    head[x[0]] += 1\n"
   ]
  },
  {
   "cell_type": "code",
   "execution_count": null,
   "metadata": {},
   "outputs": [],
   "source": [
    "Цифровая сортировка\n",
    "\n",
    "a = [1231653082, 1290837092, 0012391283, 0012389989, 0087243723, 2387602384]\n",
    "сортируем по 1й цифре — неудобно\n",
    "[0012391283, 0012389989, 0087243723, 1231653082, 1290837092, 238762384]\n",
    "сортируем по последней цифре\n",
    "[123165308{2}, 129083709{2}, 001239128{3}, 008724372{3}, 238760238{4}, 001238998{9}]\n",
    "сортируем по предпоследней цифре\n",
    "[00872437{23}, 12316530{82}, 00123912{83}, 23876023{84}, 00123899{89}, 12908370{92}]\n",
    "и так далее\n",
    "....\n",
    "сортируем по первой цифре\n",
    "[]\n",
    "(10 + n) * количество цифр\n",
    "\n",
    "K-ичную систему счисления\n",
    "(K + n)*log_k(MAX_N)\n",
    "K = 2^16 \n",
    "2^64 \n",
    "\n",
    "[(a, b, c, d), (a, b, c, d), (a, b, c, d)]"
   ]
  },
  {
   "cell_type": "code",
   "execution_count": null,
   "metadata": {},
   "outputs": [],
   "source": [
    "Двоичный поиск\n",
    "a = [0,1,3,4,6,10,22,55,710,1024]\n",
    "X = 22\n",
    "[L, R] — отрезок a[L] <= X <= a[R]\n",
    "L = 0\n",
    "R = len(a) - 1\n",
    "# !!!Так не надо писать двоичный поиск!!!\n",
    "while True: # O(log n)\n",
    "    M = (L + R) // 2\n",
    "    if a[M] < x:\n",
    "        L = M\n",
    "    elif a[M] > x:\n",
    "        R = M\n",
    "    elif a[M] == x:\n",
    "        return M\n",
    "        \n",
    "#..[L.........M...........R]..."
   ]
  },
  {
   "cell_type": "code",
   "execution_count": null,
   "metadata": {},
   "outputs": [],
   "source": [
    "a = [0,1,3,4,6,10,22,55,710,1024]\n",
    "X = 44\n",
    "min i : a[i] >= X\n",
    "#....L......{X} X X X X {X}............R...\n",
    "a[L] < X\n",
    "a[R] >= X\n",
    "# (L, R]\n",
    "# L == R - 1\n",
    "a = [-inf] + a + [+inf]\n",
    "\n",
    "L = -1\n",
    "R = len(a)\n",
    "while L < R - 1:\n",
    "    M = (L + R) // 2\n",
    "    # L < R - 1 => M != L и M != R\n",
    "    if a[M] < X:\n",
    "        L = M\n",
    "    else:  # elif a[M] >= X:\n",
    "        R = M\n",
    "        \n",
    "R — первое вхождение X в массив (если вхождения вообще есть)\n",
    "R — первое вхождение минимального элемента большего X (если вхождения X нет)\n",
    "        \n",
    "max i : a[i] <= X\n",
    "a[L] <= X\n",
    "a[R] > X\n"
   ]
  },
  {
   "cell_type": "code",
   "execution_count": null,
   "metadata": {},
   "outputs": [],
   "source": []
  },
  {
   "cell_type": "code",
   "execution_count": null,
   "metadata": {},
   "outputs": [],
   "source": []
  },
  {
   "cell_type": "code",
   "execution_count": null,
   "metadata": {},
   "outputs": [],
   "source": []
  },
  {
   "cell_type": "code",
   "execution_count": null,
   "metadata": {},
   "outputs": [],
   "source": []
  },
  {
   "cell_type": "code",
   "execution_count": null,
   "metadata": {},
   "outputs": [],
   "source": []
  },
  {
   "cell_type": "code",
   "execution_count": null,
   "metadata": {},
   "outputs": [],
   "source": []
  },
  {
   "cell_type": "code",
   "execution_count": null,
   "metadata": {},
   "outputs": [],
   "source": []
  },
  {
   "cell_type": "code",
   "execution_count": null,
   "metadata": {},
   "outputs": [],
   "source": []
  },
  {
   "cell_type": "code",
   "execution_count": null,
   "metadata": {},
   "outputs": [],
   "source": []
  },
  {
   "cell_type": "code",
   "execution_count": null,
   "metadata": {},
   "outputs": [],
   "source": []
  }
 ],
 "metadata": {
  "kernelspec": {
   "display_name": "Python 3",
   "language": "python",
   "name": "python3"
  },
  "language_info": {
   "codemirror_mode": {
    "name": "ipython",
    "version": 3
   },
   "file_extension": ".py",
   "mimetype": "text/x-python",
   "name": "python",
   "nbconvert_exporter": "python",
   "pygments_lexer": "ipython3",
   "version": "3.8.2"
  }
 },
 "nbformat": 4,
 "nbformat_minor": 4
}
