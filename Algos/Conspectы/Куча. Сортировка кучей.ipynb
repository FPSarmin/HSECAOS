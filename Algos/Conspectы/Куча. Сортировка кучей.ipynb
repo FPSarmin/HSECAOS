{
 "cells": [
  {
   "cell_type": "code",
   "execution_count": null,
   "metadata": {},
   "outputs": [],
   "source": [
    "Куча (Heap)\n",
    "\n",
    "[1, 2 ,3 ,5 ,6 ,7]\n",
    "min()\n",
    "remove_min()\n",
    "insert(x)\n",
    "\n",
    "1) Реализация на массиве\n",
    "a = list()\n",
    "def min(): # O(n)\n",
    "    result = a[0]\n",
    "    for i in a:\n",
    "        if i < result:\n",
    "            result = i \n",
    "    return result\n",
    "\n",
    "def remove_min(): # O(n)\n",
    "    position = 0\n",
    "    for i in range(len(a)):\n",
    "        if a[i] < a[position]:\n",
    "            position = i\n",
    "    a = a[0:position] + a[position:]\n",
    "\n",
    "def insert(x):\n",
    "    a.append(x)  # O(1)\n",
    "    \n",
    "2) Реализация на отсортированном массиве\n",
    "# [5, 4, 2, 1]\n",
    "def min(): # O(1)\n",
    "    return a[-1]\n",
    "\n",
    "def remove_min(): # O(1)\n",
    "    a.pop()\n",
    "\n",
    "def insert(x): # O(n)\n",
    "    a.append(x)\n",
    "    i = len(a) - 1\n",
    "    while i > 0 and a[i] > a[i-1]:\n",
    "        (a[i], a[i-1]) = (a[i - 1], a[i])\n",
    "        \n",
    "        \n"
   ]
  },
  {
   "cell_type": "code",
   "execution_count": null,
   "metadata": {},
   "outputs": [],
   "source": [
    "class Node:\n",
    "    def __init__(sel):\n",
    "        value = x\n",
    "        left =\n",
    "        right = "
   ]
  },
  {
   "cell_type": "code",
   "execution_count": null,
   "metadata": {},
   "outputs": [],
   "source": [
    "# (x-1)//2 -> x -> 2*x+1 , 2*x+2\n",
    "# heap[i] >= heap[(i-1)//2]\n",
    "\n",
    "# heap[i] <= heap[(i-1)//2]\n",
    "\n",
    "heap = list()\n",
    "\n",
    "def min():\n",
    "    return heap[0]\n",
    "\n",
    "\n",
    "def insert(x): # O(log n)\n",
    "    heap.append(x)\n",
    "    i = len(heap) - 1\n",
    "    sift_up(i)\n",
    "    \n",
    "def sift_up(i)\n",
    "    while i > 0 and heap[(i-1)//2] > heap[i]:\n",
    "        (heap[(i-1)//2], heap[i]) = (heap[i], heap[(i-1)//2])\n",
    "        i = (i-1) // 2\n",
    "        \n",
    "def remove_min(): # O(log n)\n",
    "    (heap[0], heap[-1]) = (heap[-1], heap[0])\n",
    "    heap.pop()\n",
    "    i = 0\n",
    "    n = len(heap)\n",
    "    sift_down(i, n)\n",
    "    \n",
    "def sift_down(i, n):\n",
    "    while True\n",
    "        min_position = i\n",
    "        if 2 * i + 1 < n and heap[2 * i + 1] < heap[min_position]:\n",
    "            min_postition = 2 * i + 1\n",
    "        if 2 * i + 2 < n and heap[2 * i + 2] < heap[min_position]:\n",
    "            min_postition = 2 * i + 2\n",
    "        if min_position == i:\n",
    "            break\n",
    "        (heap[i], heap[min_position]) = (heap[min_position], heap[i])\n",
    "        i = min_position\n",
    "    \n",
    "        "
   ]
  },
  {
   "cell_type": "code",
   "execution_count": null,
   "metadata": {},
   "outputs": [],
   "source": [
    "# Сортировка кучей (Heapsort)\n",
    "a = list()\n",
    "n = len(a)\n",
    "heap = list()\n",
    "for x in a: # O(n log n)\n",
    "    insert(x) \n",
    "for i in range(n): # O(n log n)\n",
    "    a[i] = min() # O(1)\n",
    "    remove_min() # O(log n)\n",
    "\n",
    "heap = a = [6, 3, 5, 8, 4][ 2 1]\n",
    "for i in range(n): # O(n log n)\n",
    "    sift_up(i)\n",
    "for i in range(n - 1, 0, -1):  # O(n log n)\n",
    "    (heap[0], heap[i]) = (heap[i], heap[0])\n",
    "    sift_down(0, i)\n",
    "\n",
    "\n"
   ]
  },
  {
   "cell_type": "code",
   "execution_count": null,
   "metadata": {},
   "outputs": [],
   "source": [
    "# heapify\n",
    "for i in range(n): # O(n log n)\n",
    "    sift_up(i)\n",
    "# \\Omega (n log n)\n",
    "# >= 1/4 n log n \n",
    "# \\Theta(n log n)"
   ]
  },
  {
   "cell_type": "code",
   "execution_count": null,
   "metadata": {},
   "outputs": [],
   "source": [
    "\n"
   ]
  },
  {
   "cell_type": "code",
   "execution_count": null,
   "metadata": {},
   "outputs": [],
   "source": []
  },
  {
   "cell_type": "code",
   "execution_count": null,
   "metadata": {},
   "outputs": [],
   "source": []
  }
 ],
 "metadata": {
  "kernelspec": {
   "display_name": "Python 3",
   "language": "python",
   "name": "python3"
  },
  "language_info": {
   "codemirror_mode": {
    "name": "ipython",
    "version": 3
   },
   "file_extension": ".py",
   "mimetype": "text/x-python",
   "name": "python",
   "nbconvert_exporter": "python",
   "pygments_lexer": "ipython3",
   "version": "3.8.2"
  }
 },
 "nbformat": 4,
 "nbformat_minor": 4
}
