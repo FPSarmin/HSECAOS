{
 "cells": [
  {
   "cell_type": "code",
   "execution_count": null,
   "metadata": {},
   "outputs": [],
   "source": [
    "[0,0,0,0,0,0,0,0,1,1,1,1,1,1,1,1,1,1]\n",
    "\n",
    "f(x) = 0\n",
    "\n",
    "l = -1\n",
    "while f(l) >= 0:\n",
    "    l *= 2\n",
    "r = 1\n",
    "while f(r) <= 0:\n",
    "    r *= 2\n",
    "\n",
    "#l = -math.inf\n",
    "#r = math.inf\n",
    "#(l + r) / 2 -> NaN\n",
    "\n",
    "# f(r) < 0    f(2*r) >= 0     \n",
    "while r - l > 1e-9:\n",
    "    m = (l + r) / 2\n",
    "    if m <= l or r <= m:\n",
    "        break\n",
    "    if f(m) < 0:\n",
    "        l = m\n",
    "    else:\n",
    "        r = m\n"
   ]
  },
  {
   "cell_type": "code",
   "execution_count": null,
   "metadata": {},
   "outputs": [],
   "source": [
    "float() — 64 бита\n",
    "m: int - мантиса — 48 бит\n",
    "exp: int - экспонента — 14 экспонента 2**14\n",
    "m * (2 ** exp)\n",
    "\n",
    "(m+1) * (2**exp) - m * (2**exp) > 1e-9\n",
    "[m12356455555555557145872.13458721][exp.........]\n",
    "\n",
    "r-l log((r-l)/epsilon) = log(r-l) + log_{1/2}(epsilon)\n",
    "l = 0\n",
    "r = 2**48 * 2 ** (2**14)\n",
    "x ~= 0.00000001\n",
    "\n",
    "for _ in range(100):\n",
    "    m = (l + r) / 2\n",
    "    if f(m) < 0:\n",
    "        l = m\n",
    "    else:\n",
    "        r = m\n"
   ]
  },
  {
   "cell_type": "code",
   "execution_count": null,
   "metadata": {},
   "outputs": [],
   "source": [
    "f(x) = x^2\n",
    "\n",
    "f(x) = C"
   ]
  },
  {
   "cell_type": "code",
   "execution_count": null,
   "metadata": {},
   "outputs": [],
   "source": [
    "Троичный поиск\n",
    "l = -1e100\n",
    "r =  1e100\n",
    "while r-l > epsilon:\n",
    "    m1 = l + (r-l) / 3 = (2 * l + r) / 3\n",
    "    m2 = r - (r-l) / 3 = (l + 2 * r) / 3\n",
    "    if f(m1) > f(m2):\n",
    "        r = m2\n",
    "    else:\n",
    "        l = m1\n",
    "log_{3/2}(r-l/epsilon)\n",
    "\n",
    "в 2.5-3 раза медленнее "
   ]
  },
  {
   "cell_type": "code",
   "execution_count": null,
   "metadata": {},
   "outputs": [],
   "source": [
    "Метод золотого сечения\n"
   ]
  },
  {
   "cell_type": "code",
   "execution_count": null,
   "metadata": {},
   "outputs": [],
   "source": [
    "[1, 2, 3, 4, 5] min i: a[i] >= x"
   ]
  },
  {
   "cell_type": "code",
   "execution_count": null,
   "metadata": {},
   "outputs": [],
   "source": [
    "min i: a[i] >= x\n",
    "x = 4\n",
    "[1, 2, 3, 4, 5]\n",
    "[1, 2, 3, 4, 5, 7, 9, 20]\n",
    "[7, 9, 10, 12, 13]\n",
    "k * log(n)\n"
   ]
  },
  {
   "cell_type": "code",
   "execution_count": null,
   "metadata": {},
   "outputs": [],
   "source": [
    "Частичное каскадирование\n",
    "\n",
    "a_k-1\n",
    "a_k - берём элементы на чётных позициях a_k[0:len(a_k):2]\n",
    "\n",
    "b_k-1 = merge(a_k-1, a_k[0:len(a_k):2])\n",
    "\n",
    "log(n) + k\n",
    "\n"
   ]
  },
  {
   "cell_type": "code",
   "execution_count": null,
   "metadata": {},
   "outputs": [],
   "source": []
  },
  {
   "cell_type": "code",
   "execution_count": null,
   "metadata": {},
   "outputs": [],
   "source": []
  },
  {
   "cell_type": "code",
   "execution_count": null,
   "metadata": {},
   "outputs": [],
   "source": []
  },
  {
   "cell_type": "code",
   "execution_count": null,
   "metadata": {},
   "outputs": [],
   "source": []
  },
  {
   "cell_type": "code",
   "execution_count": null,
   "metadata": {},
   "outputs": [],
   "source": []
  },
  {
   "cell_type": "code",
   "execution_count": null,
   "metadata": {},
   "outputs": [],
   "source": []
  },
  {
   "cell_type": "code",
   "execution_count": null,
   "metadata": {},
   "outputs": [],
   "source": []
  },
  {
   "cell_type": "code",
   "execution_count": null,
   "metadata": {},
   "outputs": [],
   "source": []
  },
  {
   "cell_type": "code",
   "execution_count": null,
   "metadata": {},
   "outputs": [],
   "source": []
  },
  {
   "cell_type": "code",
   "execution_count": null,
   "metadata": {},
   "outputs": [],
   "source": []
  },
  {
   "cell_type": "code",
   "execution_count": null,
   "metadata": {},
   "outputs": [],
   "source": []
  },
  {
   "cell_type": "code",
   "execution_count": null,
   "metadata": {},
   "outputs": [],
   "source": []
  },
  {
   "cell_type": "code",
   "execution_count": null,
   "metadata": {},
   "outputs": [],
   "source": []
  }
 ],
 "metadata": {
  "kernelspec": {
   "display_name": "Python 3",
   "language": "python",
   "name": "python3"
  },
  "language_info": {
   "codemirror_mode": {
    "name": "ipython",
    "version": 3
   },
   "file_extension": ".py",
   "mimetype": "text/x-python",
   "name": "python",
   "nbconvert_exporter": "python",
   "pygments_lexer": "ipython3",
   "version": "3.8.2"
  }
 },
 "nbformat": 4,
 "nbformat_minor": 4
}
