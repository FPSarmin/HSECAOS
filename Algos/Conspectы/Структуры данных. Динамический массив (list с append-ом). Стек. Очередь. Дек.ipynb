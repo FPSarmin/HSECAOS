{
 "cells": [
  {
   "cell_type": "code",
   "execution_count": null,
   "metadata": {},
   "outputs": [],
   "source": [
    "a = [1, 2, 3, 4, 5]\n",
    "a[0]\n",
    "a[1] = 1"
   ]
  },
  {
   "cell_type": "code",
   "execution_count": null,
   "metadata": {},
   "outputs": [],
   "source": [
    "Стек\n",
    "[A, B, C, D]\n",
    "push(X)\n",
    "[A, B, C, D] -> [A, B, C, D, X]\n",
    "pop\n",
    "[A, B, C, D] -> D, [A, B, C]"
   ]
  },
  {
   "cell_type": "code",
   "execution_count": null,
   "metadata": {},
   "outputs": [],
   "source": [
    "class Stack:\n",
    "    def __init__(self):\n",
    "        self.stack = list()\n",
    "    def push(value):\n",
    "        self.stack.append(value) # O(1)?\n",
    "    def pop():\n",
    "        return self.stack.pop()  # O(1)\n",
    "        "
   ]
  },
  {
   "cell_type": "code",
   "execution_count": null,
   "metadata": {},
   "outputs": [],
   "source": [
    "a = [1, 2, 3, 4, 5, 6]\n",
    "#Memory ......[1, 2, 3, 4, 5, 6]....\n",
    "#a.append(7) ->\n",
    "#Memory .............................[1, 2, 3, 4, 5, 6, 7]....\n",
    "class list:\n",
    "    def __init__(self):\n",
    "        self.storage = [0] * 10\n",
    "        self.size = 0\n",
    "        \n",
    "    def append(x):\n",
    "        if self.size < len(self.storage):\n",
    "            self.storage[self.size] = x\n",
    "            self.size += 1\n",
    "        else:\n",
    "            new_storage = [0] * (self.size * 2)\n",
    "            for i in range(len(self.storage)):\n",
    "                new_storage[i] = self.storage[i]\n",
    "            self.storage = new_storage\n",
    "            self.storage[self.size] = x\n",
    "            self.size += 1\n",
    "            \n",
    "    def pop():\n",
    "        self.size -= 1\n",
    "        if (self.size < len(self.storage) // 4):\n",
    "            new_storage = [0] * (self.size // 2)\n",
    "            for i in range(len(self.size)):\n",
    "                new_storage[i] = self.storage[i]\n",
    "            self.storage = new_storage\n",
    "            \n",
    "            \n",
    "v (len(storage), size)\n",
    "1 (0, 0)  1  -> (1, 1) \n",
    "2 (1, 1) -> (2, 2)\n",
    "3 (2, 2) -> (4, 3)\n",
    "4 (4, 3) -> (4, 4) O(1)\n",
    "5 (4, 4) -> (8, 5) O(4)\n",
    "6\n",
    "\n",
    "2^n + 1 -> O(2^n)\n",
    "\n",
    "N append-ов\n",
    "1 + 2 + 4 + 8 + 16 + ... + N =  2*N\n",
    "O(N)\n",
    "\n",
    "T(append) = O(N)\n",
    "A — амортизированое время, сколько операция работает в среднем\n",
    "A(append) = O(1)\n",
    "\n",
    "Метод отложенной оплаты, метод бухгалтерского учёта\n",
    "\n",
    "storage: [1, 2, 3, 4, 5 (6 рубля), 6 (6 рубля), 7 (6 рубля), 8 (6 рубля)]\n",
    "append(8):\n",
    "        storage[size] = 9\n",
    "        size += 1\n",
    "        отложите 6 рублей\n",
    "    \n",
    "append(9):\n",
    "    # len(storage) == 8\n",
    "    # 3 * 8 / 2 >= 8\n",
    "    new_storage = [0] * 16 # <- 16 рублей\n",
    "    for i in range(len(self.storage)):\n",
    "        new_storage[i] = self.storage[i] # <- 8 рублей\n",
    "    storage = new_storage\n",
    "    storage[size] = 9\n",
    "    \n",
    "Метод потенциалов\n",
    "Ф — потенциал\n",
    "Ф > 0\n",
    "T_i = x — реальное время i-й операции \n",
    "\\delta Ф = y\n",
    "A_i = T_i + \\delta Ф\n",
    "append (не удваивает) — Ф += 6\n",
    "append (удваивает) Ф -= len(storage) * 3\n",
    "\n",
    "\\Sum A_i = \\Sum T_i + \\Sum(\\delta Ф)\n",
    "\n",
    "\n",
    "a = list()\n",
    "a = a[:]"
   ]
  },
  {
   "cell_type": "code",
   "execution_count": null,
   "metadata": {},
   "outputs": [],
   "source": [
    "class Stack:\n",
    "    def __init__(self):\n",
    "        self.stack = list()\n",
    "    def push(value):\n",
    "        self.stack.append(value) # O(1) — амортизиовано\n",
    "    def pop():\n",
    "        return self.stack.pop()  # O(1)\n"
   ]
  },
  {
   "cell_type": "code",
   "execution_count": 25,
   "metadata": {},
   "outputs": [
    {
     "ename": "Exception",
     "evalue": "",
     "output_type": "error",
     "traceback": [
      "\u001b[0;31m---------------------------------------------------------------------------\u001b[0m",
      "\u001b[0;31mException\u001b[0m                                 Traceback (most recent call last)",
      "\u001b[0;32m<ipython-input-25-6207663d119f>\u001b[0m in \u001b[0;36m<module>\u001b[0;34m\u001b[0m\n\u001b[1;32m      3\u001b[0m         \u001b[0;32mraise\u001b[0m \u001b[0mException\u001b[0m\u001b[0;34m(\u001b[0m\u001b[0;34m)\u001b[0m\u001b[0;34m\u001b[0m\u001b[0;34m\u001b[0m\u001b[0m\n\u001b[1;32m      4\u001b[0m     \u001b[0mf\u001b[0m\u001b[0;34m(\u001b[0m\u001b[0mn\u001b[0m \u001b[0;34m-\u001b[0m \u001b[0;36m1\u001b[0m\u001b[0;34m)\u001b[0m\u001b[0;34m\u001b[0m\u001b[0;34m\u001b[0m\u001b[0m\n\u001b[0;32m----> 5\u001b[0;31m \u001b[0mf\u001b[0m\u001b[0;34m(\u001b[0m\u001b[0;36m3\u001b[0m\u001b[0;34m)\u001b[0m\u001b[0;34m\u001b[0m\u001b[0;34m\u001b[0m\u001b[0m\n\u001b[0m",
      "\u001b[0;32m<ipython-input-25-6207663d119f>\u001b[0m in \u001b[0;36mf\u001b[0;34m(n)\u001b[0m\n\u001b[1;32m      2\u001b[0m     \u001b[0;32mif\u001b[0m \u001b[0;34m(\u001b[0m\u001b[0mn\u001b[0m \u001b[0;34m==\u001b[0m \u001b[0;36m0\u001b[0m\u001b[0;34m)\u001b[0m\u001b[0;34m:\u001b[0m\u001b[0;34m\u001b[0m\u001b[0;34m\u001b[0m\u001b[0m\n\u001b[1;32m      3\u001b[0m         \u001b[0;32mraise\u001b[0m \u001b[0mException\u001b[0m\u001b[0;34m(\u001b[0m\u001b[0;34m)\u001b[0m\u001b[0;34m\u001b[0m\u001b[0;34m\u001b[0m\u001b[0m\n\u001b[0;32m----> 4\u001b[0;31m     \u001b[0mf\u001b[0m\u001b[0;34m(\u001b[0m\u001b[0mn\u001b[0m \u001b[0;34m-\u001b[0m \u001b[0;36m1\u001b[0m\u001b[0;34m)\u001b[0m\u001b[0;34m\u001b[0m\u001b[0;34m\u001b[0m\u001b[0m\n\u001b[0m\u001b[1;32m      5\u001b[0m \u001b[0mf\u001b[0m\u001b[0;34m(\u001b[0m\u001b[0;36m3\u001b[0m\u001b[0;34m)\u001b[0m\u001b[0;34m\u001b[0m\u001b[0;34m\u001b[0m\u001b[0m\n",
      "\u001b[0;32m<ipython-input-25-6207663d119f>\u001b[0m in \u001b[0;36mf\u001b[0;34m(n)\u001b[0m\n\u001b[1;32m      2\u001b[0m     \u001b[0;32mif\u001b[0m \u001b[0;34m(\u001b[0m\u001b[0mn\u001b[0m \u001b[0;34m==\u001b[0m \u001b[0;36m0\u001b[0m\u001b[0;34m)\u001b[0m\u001b[0;34m:\u001b[0m\u001b[0;34m\u001b[0m\u001b[0;34m\u001b[0m\u001b[0m\n\u001b[1;32m      3\u001b[0m         \u001b[0;32mraise\u001b[0m \u001b[0mException\u001b[0m\u001b[0;34m(\u001b[0m\u001b[0;34m)\u001b[0m\u001b[0;34m\u001b[0m\u001b[0;34m\u001b[0m\u001b[0m\n\u001b[0;32m----> 4\u001b[0;31m     \u001b[0mf\u001b[0m\u001b[0;34m(\u001b[0m\u001b[0mn\u001b[0m \u001b[0;34m-\u001b[0m \u001b[0;36m1\u001b[0m\u001b[0;34m)\u001b[0m\u001b[0;34m\u001b[0m\u001b[0;34m\u001b[0m\u001b[0m\n\u001b[0m\u001b[1;32m      5\u001b[0m \u001b[0mf\u001b[0m\u001b[0;34m(\u001b[0m\u001b[0;36m3\u001b[0m\u001b[0;34m)\u001b[0m\u001b[0;34m\u001b[0m\u001b[0;34m\u001b[0m\u001b[0m\n",
      "\u001b[0;32m<ipython-input-25-6207663d119f>\u001b[0m in \u001b[0;36mf\u001b[0;34m(n)\u001b[0m\n\u001b[1;32m      2\u001b[0m     \u001b[0;32mif\u001b[0m \u001b[0;34m(\u001b[0m\u001b[0mn\u001b[0m \u001b[0;34m==\u001b[0m \u001b[0;36m0\u001b[0m\u001b[0;34m)\u001b[0m\u001b[0;34m:\u001b[0m\u001b[0;34m\u001b[0m\u001b[0;34m\u001b[0m\u001b[0m\n\u001b[1;32m      3\u001b[0m         \u001b[0;32mraise\u001b[0m \u001b[0mException\u001b[0m\u001b[0;34m(\u001b[0m\u001b[0;34m)\u001b[0m\u001b[0;34m\u001b[0m\u001b[0;34m\u001b[0m\u001b[0m\n\u001b[0;32m----> 4\u001b[0;31m     \u001b[0mf\u001b[0m\u001b[0;34m(\u001b[0m\u001b[0mn\u001b[0m \u001b[0;34m-\u001b[0m \u001b[0;36m1\u001b[0m\u001b[0;34m)\u001b[0m\u001b[0;34m\u001b[0m\u001b[0;34m\u001b[0m\u001b[0m\n\u001b[0m\u001b[1;32m      5\u001b[0m \u001b[0mf\u001b[0m\u001b[0;34m(\u001b[0m\u001b[0;36m3\u001b[0m\u001b[0;34m)\u001b[0m\u001b[0;34m\u001b[0m\u001b[0;34m\u001b[0m\u001b[0m\n",
      "\u001b[0;32m<ipython-input-25-6207663d119f>\u001b[0m in \u001b[0;36mf\u001b[0;34m(n)\u001b[0m\n\u001b[1;32m      1\u001b[0m \u001b[0;32mdef\u001b[0m \u001b[0mf\u001b[0m\u001b[0;34m(\u001b[0m\u001b[0mn\u001b[0m\u001b[0;34m)\u001b[0m\u001b[0;34m:\u001b[0m\u001b[0;34m\u001b[0m\u001b[0;34m\u001b[0m\u001b[0m\n\u001b[1;32m      2\u001b[0m     \u001b[0;32mif\u001b[0m \u001b[0;34m(\u001b[0m\u001b[0mn\u001b[0m \u001b[0;34m==\u001b[0m \u001b[0;36m0\u001b[0m\u001b[0;34m)\u001b[0m\u001b[0;34m:\u001b[0m\u001b[0;34m\u001b[0m\u001b[0;34m\u001b[0m\u001b[0m\n\u001b[0;32m----> 3\u001b[0;31m         \u001b[0;32mraise\u001b[0m \u001b[0mException\u001b[0m\u001b[0;34m(\u001b[0m\u001b[0;34m)\u001b[0m\u001b[0;34m\u001b[0m\u001b[0;34m\u001b[0m\u001b[0m\n\u001b[0m\u001b[1;32m      4\u001b[0m     \u001b[0mf\u001b[0m\u001b[0;34m(\u001b[0m\u001b[0mn\u001b[0m \u001b[0;34m-\u001b[0m \u001b[0;36m1\u001b[0m\u001b[0;34m)\u001b[0m\u001b[0;34m\u001b[0m\u001b[0;34m\u001b[0m\u001b[0m\n\u001b[1;32m      5\u001b[0m \u001b[0mf\u001b[0m\u001b[0;34m(\u001b[0m\u001b[0;36m3\u001b[0m\u001b[0;34m)\u001b[0m\u001b[0;34m\u001b[0m\u001b[0;34m\u001b[0m\u001b[0m\n",
      "\u001b[0;31mException\u001b[0m: "
     ]
    }
   ],
   "source": [
    "def f(n):\n",
    "    if (n == 0):\n",
    "        raise Exception()\n",
    "    f(n - 1)\n",
    "f(3)"
   ]
  },
  {
   "cell_type": "code",
   "execution_count": null,
   "metadata": {},
   "outputs": [],
   "source": [
    "Очередь\n",
    "A B C D E F \n",
    "enqueue(G)\n",
    "    A B C D E F G\n",
    "dequeue()\n",
    "    A\n",
    "    B C D E F G"
   ]
  },
  {
   "cell_type": "code",
   "execution_count": null,
   "metadata": {},
   "outputs": [],
   "source": [
    "class Queue:\n",
    "    def __init__(self):\n",
    "        self.queue = [0] * 10\n",
    "    def enqueue(value):\n",
    "        self.queue.append(value) # O(1)?\n",
    "    def dequeue():\n",
    "        result = self.queue[0]\n",
    "        self.queue = self.queue[1:]\n",
    "        return result # O(n)\n",
    "    "
   ]
  },
  {
   "cell_type": "code",
   "execution_count": null,
   "metadata": {},
   "outputs": [],
   "source": [
    "queue = .. .. .. .. [1   2   3  4  5] .. .. .. .. .. \n",
    "                     head             tail\n",
    "    \n",
    "queue = 10 11] .. .. .. [1   2   3  4  5 6 7 8 8 9 \n",
    "               tail    head             \n",
    "# [head, tail)\n",
    "class Queue:\n",
    "    def __init__(self):\n",
    "        self.queue = [0] * 10\n",
    "        self.head = 0\n",
    "        self.tail = 0\n",
    "                         \n",
    "    def enqueue(value):\n",
    "        if ((self.tail + 1) % len(queue) == self.head):\n",
    "            #удваиваем массив self.queue\n",
    "        self.queue[self.tail] = value\n",
    "        self.tail = (self.tail + 1) % len(queue)\n",
    "                         \n",
    "    def dequeue(value):\n",
    "        if (self.head == self.tail):\n",
    "            raise Exception(\"Not enough elemets\")\n",
    "        result = self.queue[self.head]\n",
    "        self.head = (self.head + 1) % len(queue)\n",
    "        return result\n",
    "                         \n",
    "     def empty():\n",
    "         return self.head == self.tail\n",
    "    \n"
   ]
  },
  {
   "cell_type": "code",
   "execution_count": null,
   "metadata": {},
   "outputs": [],
   "source": [
    "class Stack\n",
    "    def pop()\n",
    "    def push(x)\n",
    "    def empty()\n",
    "    \n",
    "A B C D E ][ F G H I J K\n",
    "            \n",
    "][F G H I J K\n",
    "F G H I J K ][\n",
    "class Queue\n",
    "    def __init__(self):\n",
    "        self.headStack = Stack()\n",
    "        self.tailStack = Stack()\n",
    "    def enqueue(x):\n",
    "        self.tailStack.push(x) # O(1) (амортизировано)\n",
    "    \n",
    "    def dequeue():\n",
    "        if self.headStack.empty():\n",
    "            while not self.tailStack.empty():\n",
    "                self.headStack.push(self.tailStack.pop())   # O(1) (амортизировано)\n",
    "        return self.headStack.pop()"
   ]
  },
  {
   "cell_type": "code",
   "execution_count": null,
   "metadata": {},
   "outputs": [],
   "source": [
    "Дек — Deque\n",
    "\n",
    "from collections import deque\n",
    "d = deque()\n",
    "d.append(x)\n",
    "d.appendleft(x)\n",
    "d.pop()\n",
    "d.popleft()"
   ]
  },
  {
   "cell_type": "code",
   "execution_count": null,
   "metadata": {},
   "outputs": [],
   "source": []
  }
 ],
 "metadata": {
  "kernelspec": {
   "display_name": "Python 3",
   "language": "python",
   "name": "python3"
  },
  "language_info": {
   "codemirror_mode": {
    "name": "ipython",
    "version": 3
   },
   "file_extension": ".py",
   "mimetype": "text/x-python",
   "name": "python",
   "nbconvert_exporter": "python",
   "pygments_lexer": "ipython3",
   "version": "3.8.3"
  }
 },
 "nbformat": 4,
 "nbformat_minor": 4
}
