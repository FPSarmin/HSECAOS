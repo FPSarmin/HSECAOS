{
 "cells": [
  {
   "cell_type": "code",
   "execution_count": null,
   "metadata": {},
   "outputs": [],
   "source": [
    "Числа Фибоначчи\n",
    "F_0 = F_1 = 1\n",
    "F_k = F_{k-1} + F_{k-2}"
   ]
  },
  {
   "cell_type": "code",
   "execution_count": null,
   "metadata": {},
   "outputs": [],
   "source": [
    "cache = [-1] * n\n",
    "def f(k):\n",
    "    if k <= 1:\n",
    "        return 1\n",
    "    if cache[k] != -1:\n",
    "        return cache[k]\n",
    "    cache[k] = f(k - 1) + f(k - 2)\n",
    "    return cache[k]"
   ]
  },
  {
   "cell_type": "code",
   "execution_count": 8,
   "metadata": {},
   "outputs": [
    {
     "data": {
      "text/plain": [
       "89"
      ]
     },
     "execution_count": 8,
     "metadata": {},
     "output_type": "execute_result"
    }
   ],
   "source": [
    "import functools\n",
    "@functools.lru_cache(maxsize=None)\n",
    "def f(k):\n",
    "    if k <= 1:\n",
    "        return 1\n",
    "    return f(k - 1) + f(k - 2)\n",
    "\n",
    "f(10)"
   ]
  },
  {
   "cell_type": "code",
   "execution_count": null,
   "metadata": {},
   "outputs": [],
   "source": [
    "d = [0] * n\n",
    "broken = list() \n",
    "d[0] = 1\n",
    "for i in range(1, n):\n",
    "    if broken[i]:\n",
    "        continue\n",
    "    d[i] = d[i-1]\n",
    "    if i >= 2:\n",
    "        d[i] += d[i-2]\n",
    "d[n - 1]"
   ]
  },
  {
   "cell_type": "code",
   "execution_count": null,
   "metadata": {},
   "outputs": [],
   "source": [
    "d = [0] * n\n",
    "broken = list() \n",
    "d[0] = 1\n",
    "for i in range(1, n): # O(n*k)\n",
    "    if broken[i]:\n",
    "        continue\n",
    "    for jump in range(1, k + 1):\n",
    "        if i - jump >= 0:\n",
    "            d[i] += d[i - jump]\n"
   ]
  },
  {
   "cell_type": "code",
   "execution_count": null,
   "metadata": {},
   "outputs": [],
   "source": [
    "d = [0] * n\n",
    "cost = list() \n",
    "d[0] = 1\n",
    "for i in range(1, n):\n",
    "    d[i] = 1e9\n",
    "    for jump in range(1, k + 1):\n",
    "        if i - jump >= 0:\n",
    "            if d[i - jump] + cost[i] < d[i]:\n",
    "                d[i] = d[i - jump] + cost[i]\n",
    "                prev[i] = i - jump\n",
    "d[n - 1]\n",
    "answer = []\n",
    "pos = n - 1\n",
    "while pos != 0:\n",
    "    answer.append(pos)\n",
    "    pos = prev[pos]"
   ]
  },
  {
   "cell_type": "code",
   "execution_count": null,
   "metadata": {},
   "outputs": [],
   "source": [
    "d[i][k] — ответ для i-й клетки, если последний прыжок был на k\n",
    "d = [[infinity] * n for _ in range(n)]\n",
    "d[0][0] = cost[0]\n",
    "for i in range(n):\n",
    "    for k in range(1, i):\n",
    "        if d[i][k] == infinity:\n",
    "            continue\n",
    "        for jump in range(max(1, k - 1), k + 2):\n",
    "            d[i + jump][jump] = min(d[i + jump][jump], d[i][k] + cost[i + jump])\n",
    "\n",
    "answer = infinity\n",
    "for k in (1, n):\n",
    "    answer = min(answer, d[n - 1][k])"
   ]
  },
  {
   "cell_type": "code",
   "execution_count": null,
   "metadata": {},
   "outputs": [],
   "source": [
    "a = [5 4 3 1 2 5 7 8 10 3 7]\n",
    "d = [1 1 1 1 2 3 4 5  6 3 4]\n",
    "\n",
    "b = [0 1 2 3 7 8 10]\n",
    "\n",
    "d[i] — длина максимальной возрастающей подпоследовательности заканчивающейся в i-м элементе\n",
    "answer = 0\n",
    "d = [1] * n\n",
    "for i in range(n): # O(n^2)\n",
    "    d[i] = 1\n",
    "    for j in range(i - 1): \n",
    "        if a[j] < a[i]:\n",
    "            if d[j] + 1 > d[i]:\n",
    "                d[i] = d[j] + 1\n",
    "                prev[i] = j\n",
    "    answer = max(answer, d[i])\n",
    "\n",
    "b[i] — в каком минимальном элементе может заканчиваться подпоследовательность длины i\n",
    "\n",
    "for i in range(n):\n",
    "    for length in range(0, i + 1):\n",
    "#       if b[length] < a[i]:\n",
    "#           b[length + 1] = min(b[length + 1], a[i])\n",
    "        if b[length] < a[i] and a[i] < b[length + 1]:\n",
    "                b[length + 1] = a[i]\n",
    "\n",
    "a = [5 4 3 1 2 5 7 8 10 3 7]\n",
    "\n",
    "b = [\n",
    "    0: 0\n",
    "    1: 1\n",
    "    2: 2   \n",
    "    3: \n",
    "    4: 7\n",
    "    5: 8\n",
    "    6: 10\n",
    "    7: inf]\n",
    "\n",
    "# O(n log n)"
   ]
  },
  {
   "cell_type": "code",
   "execution_count": null,
   "metadata": {},
   "outputs": [],
   "source": []
  },
  {
   "cell_type": "code",
   "execution_count": null,
   "metadata": {},
   "outputs": [],
   "source": []
  },
  {
   "cell_type": "code",
   "execution_count": null,
   "metadata": {},
   "outputs": [],
   "source": []
  },
  {
   "cell_type": "code",
   "execution_count": null,
   "metadata": {},
   "outputs": [],
   "source": []
  },
  {
   "cell_type": "code",
   "execution_count": null,
   "metadata": {},
   "outputs": [],
   "source": []
  },
  {
   "cell_type": "code",
   "execution_count": null,
   "metadata": {},
   "outputs": [],
   "source": []
  },
  {
   "cell_type": "code",
   "execution_count": null,
   "metadata": {},
   "outputs": [],
   "source": []
  },
  {
   "cell_type": "code",
   "execution_count": null,
   "metadata": {},
   "outputs": [],
   "source": []
  },
  {
   "cell_type": "code",
   "execution_count": null,
   "metadata": {},
   "outputs": [],
   "source": []
  },
  {
   "cell_type": "code",
   "execution_count": null,
   "metadata": {},
   "outputs": [],
   "source": []
  }
 ],
 "metadata": {
  "kernelspec": {
   "display_name": "Python 3",
   "language": "python",
   "name": "python3"
  },
  "language_info": {
   "codemirror_mode": {
    "name": "ipython",
    "version": 3
   },
   "file_extension": ".py",
   "mimetype": "text/x-python",
   "name": "python",
   "nbconvert_exporter": "python",
   "pygments_lexer": "ipython3",
   "version": "3.8.2"
  }
 },
 "nbformat": 4,
 "nbformat_minor": 4
}
