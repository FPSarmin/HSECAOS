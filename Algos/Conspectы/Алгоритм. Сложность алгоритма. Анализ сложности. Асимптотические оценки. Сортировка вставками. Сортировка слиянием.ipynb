{
 "cells": [
  {
   "cell_type": "code",
   "execution_count": null,
   "metadata": {},
   "outputs": [],
   "source": [
    "a = [100] * 1000\n",
    "algorithm(a)\n",
    "\n",
    "def algorithm(a):\n",
    "    n = len(a) # 1\n",
    "    s = 0 # 1\n",
    "    for i in range(0, n): # 50 + 5n\n",
    "        if a[i] > i: # 2n \n",
    "            s += a[i] # 3n\n",
    "    return s # 1\n",
    "\n",
    "52 + 10n = O(n) = \\Omega(n)\n",
    "52 + 10n = O(n^3)\n",
    "n^a = O(n^b) b >= a\n"
   ]
  },
  {
   "cell_type": "code",
   "execution_count": null,
   "metadata": {},
   "outputs": [],
   "source": [
    "$n_0 = 100$\n",
    "$C = 11$\n",
    "52 + 10n < 11n\n",
    "52 < n\n",
    "\n",
    "52 + 10n < 11n^3\n",
    "\n",
    "n_0 = 10\n",
    "C = 1\n",
    "52 + 10n >= n\n",
    "52 >= -9n\n",
    "\n",
    "52 + 10n = o(n^2)"
   ]
  },
  {
   "cell_type": "markdown",
   "metadata": {},
   "source": [
    "$f(n) = O(g(n))$\n",
    "\n",
    "$\\exists n_0,C > 0 : \\forall n > n_0 : f(n) \\leq C \\cdot g(n)$\n",
    "\n",
    "$f(n) = \\Omega(g(n))$\n",
    "\n",
    "$\\exists n_0,C > 0 : \\forall n > n_0 : f(n) \\ge C \\cdot g(n)$\n",
    "\n",
    "$T(n) = O(n)$ и $T(n) = \\Omega(n) \\Rightarrow T(n) = \\Theta(n)$\n",
    "\n",
    "$f(n) = o(g(n))$\n",
    "\n",
    "$\\forall \\epsilon > 0 : \\exists n_0 : \\forall n > n_0 : f(n) \\leq \\epsilon \\cdot g(n)$"
   ]
  },
  {
   "cell_type": "code",
   "execution_count": null,
   "metadata": {},
   "outputs": [],
   "source": [
    "RAM модель\n",
    "memory = [0, 0, 0, 0, 0, 0, 0, 0, 0, 0, 0, 0, 0, 0, 0, 0] * 10000\n",
    "memory[i]"
   ]
  },
  {
   "cell_type": "code",
   "execution_count": null,
   "metadata": {},
   "outputs": [],
   "source": [
    "def f(n):\n",
    "    if n == 0:\n",
    "        return\n",
    "    f(n - 1)\n",
    "    f(n - 1)\n",
    "    f(n - 1)\n",
    "\n",
    "O(3^n)"
   ]
  },
  {
   "cell_type": "code",
   "execution_count": null,
   "metadata": {},
   "outputs": [],
   "source": [
    "def f(n):\n",
    "    if n == 0:\n",
    "        return\n",
    "    f(n // 2)\n",
    "    f(n // 2)\n",
    "    O(n)\n",
    "O(n)\n",
    "\n",
    "O(log(n))"
   ]
  },
  {
   "cell_type": "code",
   "execution_count": null,
   "metadata": {},
   "outputs": [],
   "source": [
    "a = [4, 3, 2, 1, 5, 6] a < b => ! b < a; a < b and b < c => a < c\n",
    "b = [1, 2, 3, 4, 5, 6]\n",
    "b = sorted(a)"
   ]
  },
  {
   "cell_type": "code",
   "execution_count": null,
   "metadata": {},
   "outputs": [],
   "source": [
    "Сортировка вставками (Insertion sort)\n",
    "\n",
    "a = [4, 3, 2, 1, 5, 6]\n",
    "[2, 3, 4, 1, 5, 6] \n",
    "[2, 3, 1, 4, 5, 6] \n",
    "[2, 1, 3, 4, 5, 6] \n",
    "[1, 2, 3, 4, 5, 6] \n"
   ]
  },
  {
   "cell_type": "code",
   "execution_count": null,
   "metadata": {},
   "outputs": [],
   "source": [
    "a = []\n",
    "for prefix in range(len(a)):\n",
    "    j = prefix\n",
    "    while j > 0 and a[j] < a[j - 1]:\n",
    "        (a[j], a[j-1]) = (a[j-1], a[j])\n",
    "        j -= 1"
   ]
  },
  {
   "cell_type": "markdown",
   "metadata": {},
   "source": [
    "O(n^2)\n",
    "O(2^n)\n",
    "\n",
    "$\\Omega(n)$\n",
    "\n",
    "[6, 5, 4, 3, 2, 1]\n",
    "\n",
    "$\\Theta(n^2)$ (в худшем случае)"
   ]
  },
  {
   "cell_type": "code",
   "execution_count": null,
   "metadata": {},
   "outputs": [],
   "source": [
    "Сортировка слиянием (Merge sort)\n",
    "\n",
    "def f(n):\n",
    "    if n == 0:\n",
    "        return\n",
    "    f(n // 2)\n",
    "    f(n // 2)\n",
    "    O(n)\n",
    "    \n",
    "[71039826409163  24987141412341234]\n",
    "[71039826409163][24987141412341234]\n",
    "[710398][26409163][24987141][412341234]\n",
    "[710][398][2640][9163][2498][7141][4123][41234]\n",
    "\n",
    "def merge_sort(a):\n",
    "    n = len(a)\n",
    "    if (n <= 1):\n",
    "        return a\n",
    "    return merge(merge_sort(a[:n//2]), merge_sort(a[n//2:]))\n",
    "\n",
    "O(n log(n))\n",
    "\n",
    "a = [1, 3, 4, 5]\n",
    "b = [2, 4, 6]\n",
    "c = [1, 2, 3, 4, 4, 5, 6]\n",
    "\n",
    "a = []\n",
    "b = [6]\n",
    "c = [1, 2, 3, 4, 4, 5, 6]\n",
    "def merge(a, b): # a и b должны быть отсортированы\n",
    "    c = []\n",
    "    while len(a) > 0 and len(b) > 0:\n",
    "        if a[0] < b[0]:\n",
    "            c.append(a[0])\n",
    "            a = a[1:]\n",
    "        else:\n",
    "            c.append(b[0])\n",
    "            b = b[1:]\n",
    "    c += a\n",
    "    c += b\n",
    "    return c\n"
   ]
  },
  {
   "cell_type": "code",
   "execution_count": null,
   "metadata": {},
   "outputs": [],
   "source": [
    "def merge(a, b):\n",
    "    a_head = 0\n",
    "    b_head = 0\n",
    "    c = [0] * (len(a) + len(b))\n",
    "    c_head\n",
    "    while a_head < len(a) or a_head < len(b):\n",
    "        if b_head == len(b) or a_head < len(a) && a[a_head] < b[b_head]:\n",
    "            c[c_head] = a[a_head]\n",
    "            a_head += 1\n",
    "        else:\n",
    "            c[c_head] = b[b_head]\n",
    "            b_head += 1\n",
    "        c_head += 1\n",
    "    return c\n",
    "\n",
    "\n"
   ]
  },
  {
   "cell_type": "markdown",
   "metadata": {},
   "source": []
  },
  {
   "cell_type": "code",
   "execution_count": null,
   "metadata": {},
   "outputs": [],
   "source": []
  }
 ],
 "metadata": {
  "kernelspec": {
   "display_name": "Python 3",
   "language": "python",
   "name": "python3"
  },
  "language_info": {
   "codemirror_mode": {
    "name": "ipython",
    "version": 3
   },
   "file_extension": ".py",
   "mimetype": "text/x-python",
   "name": "python",
   "nbconvert_exporter": "python",
   "pygments_lexer": "ipython3",
   "version": "3.8.2"
  }
 },
 "nbformat": 4,
 "nbformat_minor": 4
}
